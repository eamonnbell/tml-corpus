{
 "cells": [
  {
   "cell_type": "code",
   "execution_count": 13,
   "metadata": {
    "collapsed": false
   },
   "outputs": [],
   "source": [
    "import numpy as np, matplotlib.pyplot as plt, mpld3, seaborn as sns\n",
    "mpld3.enable_notebook()\n",
    "\n",
    "fig = plt.figure()\n",
    "points = plt.scatter([1,2,3,4,5], [3,1,4,1,5], s=1000)\n",
    "tt = mpld3.plugins.PointLabelTooltip(points, [1,2])\n",
    "mpld3.plugins.connect(plt.gcf(), tt)"
   ]
  },
  {
   "cell_type": "code",
   "execution_count": 14,
   "metadata": {
    "collapsed": false
   },
   "outputs": [
    {
     "data": {
      "text/html": [
       "\n",
       "\n",
       "<style>\n",
       "\n",
       "</style>\n",
       "\n",
       "<div id=\"fig_el13999140698453156360135333713\"></div>\n",
       "<script>\n",
       "function mpld3_load_lib(url, callback){\n",
       "  var s = document.createElement('script');\n",
       "  s.src = url;\n",
       "  s.async = true;\n",
       "  s.onreadystatechange = s.onload = callback;\n",
       "  s.onerror = function(){console.warn(\"failed to load library \" + url);};\n",
       "  document.getElementsByTagName(\"head\")[0].appendChild(s);\n",
       "}\n",
       "\n",
       "if(typeof(mpld3) !== \"undefined\" && mpld3._mpld3IsLoaded){\n",
       "   // already loaded: just create the figure\n",
       "   !function(mpld3){\n",
       "       \n",
       "       mpld3.draw_figure(\"fig_el13999140698453156360135333713\", {\"height\": 440.0, \"plugins\": [{\"type\": \"reset\"}, {\"button\": true, \"type\": \"zoom\", \"enabled\": false}, {\"button\": true, \"type\": \"boxzoom\", \"enabled\": false}, {\"type\": \"tooltip\", \"id\": \"el13999140698452830192\", \"location\": \"mouse\", \"hoffset\": 0, \"voffset\": 10, \"labels\": [1, 2]}], \"id\": \"el13999140698453156360\", \"data\": {\"data01\": [[1.0, 3.0], [2.0, 1.0], [3.0, 4.0], [4.0, 1.0], [5.0, 5.0]]}, \"axes\": [{\"xlim\": [0.0, 6.0], \"ydomain\": [0.0, 6.0], \"sharex\": [], \"markers\": [], \"images\": [], \"bbox\": [0.125, 0.09999999999999998, 0.775, 0.8], \"ylim\": [0.0, 6.0], \"xdomain\": [0.0, 6.0], \"id\": \"el13999140698453156416\", \"yscale\": \"linear\", \"axes\": [{\"position\": \"bottom\", \"nticks\": 7, \"tickvalues\": null, \"scale\": \"linear\", \"grid\": {\"color\": \"#FFFFFF\", \"alpha\": 1.0, \"gridOn\": true, \"dasharray\": \"none\"}, \"tickformat\": null, \"fontsize\": 10.0}, {\"position\": \"left\", \"nticks\": 7, \"tickvalues\": null, \"scale\": \"linear\", \"grid\": {\"color\": \"#FFFFFF\", \"alpha\": 1.0, \"gridOn\": true, \"dasharray\": \"none\"}, \"tickformat\": null, \"fontsize\": 10.0}], \"zoomable\": true, \"collections\": [{\"offsets\": \"data01\", \"pathtransforms\": [[35.136418446315325, 0.0, 0.0, 35.136418446315325, 0.0, 0.0]], \"zorder\": 1, \"alphas\": [null], \"xindex\": 0, \"yindex\": 1, \"pathcoordinates\": \"display\", \"edgewidths\": [0.3], \"offsetcoordinates\": \"data\", \"facecolors\": [\"#0000FF\"], \"id\": \"el13999140698452830192\", \"paths\": [[[[0.0, -0.5], [0.13260155, -0.5], [0.25978993539242673, -0.44731684579412084], [0.3535533905932738, -0.3535533905932738], [0.44731684579412084, -0.25978993539242673], [0.5, -0.13260155], [0.5, 0.0], [0.5, 0.13260155], [0.44731684579412084, 0.25978993539242673], [0.3535533905932738, 0.3535533905932738], [0.25978993539242673, 0.44731684579412084], [0.13260155, 0.5], [0.0, 0.5], [-0.13260155, 0.5], [-0.25978993539242673, 0.44731684579412084], [-0.3535533905932738, 0.3535533905932738], [-0.44731684579412084, 0.25978993539242673], [-0.5, 0.13260155], [-0.5, 0.0], [-0.5, -0.13260155], [-0.44731684579412084, -0.25978993539242673], [-0.3535533905932738, -0.3535533905932738], [-0.25978993539242673, -0.44731684579412084], [-0.13260155, -0.5], [0.0, -0.5]], [\"M\", \"C\", \"C\", \"C\", \"C\", \"C\", \"C\", \"C\", \"C\", \"Z\"]]], \"edgecolors\": [\"#000000\"]}], \"texts\": [], \"xscale\": \"linear\", \"sharey\": [], \"lines\": [], \"paths\": [], \"axesbg\": \"#EAEAF2\", \"axesbgalpha\": null}], \"width\": 640.0});\n",
       "   }(mpld3);\n",
       "}else if(typeof define === \"function\" && define.amd){\n",
       "   // require.js is available: use it to load d3/mpld3\n",
       "   require.config({paths: {d3: \"https://mpld3.github.io/js/d3.v3.min\"}});\n",
       "   require([\"d3\"], function(d3){\n",
       "      window.d3 = d3;\n",
       "      mpld3_load_lib(\"https://mpld3.github.io/js/mpld3.v0.3git.js\", function(){\n",
       "         \n",
       "         mpld3.draw_figure(\"fig_el13999140698453156360135333713\", {\"height\": 440.0, \"plugins\": [{\"type\": \"reset\"}, {\"button\": true, \"type\": \"zoom\", \"enabled\": false}, {\"button\": true, \"type\": \"boxzoom\", \"enabled\": false}, {\"type\": \"tooltip\", \"id\": \"el13999140698452830192\", \"location\": \"mouse\", \"hoffset\": 0, \"voffset\": 10, \"labels\": [1, 2]}], \"id\": \"el13999140698453156360\", \"data\": {\"data01\": [[1.0, 3.0], [2.0, 1.0], [3.0, 4.0], [4.0, 1.0], [5.0, 5.0]]}, \"axes\": [{\"xlim\": [0.0, 6.0], \"ydomain\": [0.0, 6.0], \"sharex\": [], \"markers\": [], \"images\": [], \"bbox\": [0.125, 0.09999999999999998, 0.775, 0.8], \"ylim\": [0.0, 6.0], \"xdomain\": [0.0, 6.0], \"id\": \"el13999140698453156416\", \"yscale\": \"linear\", \"axes\": [{\"position\": \"bottom\", \"nticks\": 7, \"tickvalues\": null, \"scale\": \"linear\", \"grid\": {\"color\": \"#FFFFFF\", \"alpha\": 1.0, \"gridOn\": true, \"dasharray\": \"none\"}, \"tickformat\": null, \"fontsize\": 10.0}, {\"position\": \"left\", \"nticks\": 7, \"tickvalues\": null, \"scale\": \"linear\", \"grid\": {\"color\": \"#FFFFFF\", \"alpha\": 1.0, \"gridOn\": true, \"dasharray\": \"none\"}, \"tickformat\": null, \"fontsize\": 10.0}], \"zoomable\": true, \"collections\": [{\"offsets\": \"data01\", \"pathtransforms\": [[35.136418446315325, 0.0, 0.0, 35.136418446315325, 0.0, 0.0]], \"zorder\": 1, \"alphas\": [null], \"xindex\": 0, \"yindex\": 1, \"pathcoordinates\": \"display\", \"edgewidths\": [0.3], \"offsetcoordinates\": \"data\", \"facecolors\": [\"#0000FF\"], \"id\": \"el13999140698452830192\", \"paths\": [[[[0.0, -0.5], [0.13260155, -0.5], [0.25978993539242673, -0.44731684579412084], [0.3535533905932738, -0.3535533905932738], [0.44731684579412084, -0.25978993539242673], [0.5, -0.13260155], [0.5, 0.0], [0.5, 0.13260155], [0.44731684579412084, 0.25978993539242673], [0.3535533905932738, 0.3535533905932738], [0.25978993539242673, 0.44731684579412084], [0.13260155, 0.5], [0.0, 0.5], [-0.13260155, 0.5], [-0.25978993539242673, 0.44731684579412084], [-0.3535533905932738, 0.3535533905932738], [-0.44731684579412084, 0.25978993539242673], [-0.5, 0.13260155], [-0.5, 0.0], [-0.5, -0.13260155], [-0.44731684579412084, -0.25978993539242673], [-0.3535533905932738, -0.3535533905932738], [-0.25978993539242673, -0.44731684579412084], [-0.13260155, -0.5], [0.0, -0.5]], [\"M\", \"C\", \"C\", \"C\", \"C\", \"C\", \"C\", \"C\", \"C\", \"Z\"]]], \"edgecolors\": [\"#000000\"]}], \"texts\": [], \"xscale\": \"linear\", \"sharey\": [], \"lines\": [], \"paths\": [], \"axesbg\": \"#EAEAF2\", \"axesbgalpha\": null}], \"width\": 640.0});\n",
       "      });\n",
       "    });\n",
       "}else{\n",
       "    // require.js not available: dynamically load d3 & mpld3\n",
       "    mpld3_load_lib(\"https://mpld3.github.io/js/d3.v3.min.js\", function(){\n",
       "         mpld3_load_lib(\"https://mpld3.github.io/js/mpld3.v0.3git.js\", function(){\n",
       "                 \n",
       "                 mpld3.draw_figure(\"fig_el13999140698453156360135333713\", {\"height\": 440.0, \"plugins\": [{\"type\": \"reset\"}, {\"button\": true, \"type\": \"zoom\", \"enabled\": false}, {\"button\": true, \"type\": \"boxzoom\", \"enabled\": false}, {\"type\": \"tooltip\", \"id\": \"el13999140698452830192\", \"location\": \"mouse\", \"hoffset\": 0, \"voffset\": 10, \"labels\": [1, 2]}], \"id\": \"el13999140698453156360\", \"data\": {\"data01\": [[1.0, 3.0], [2.0, 1.0], [3.0, 4.0], [4.0, 1.0], [5.0, 5.0]]}, \"axes\": [{\"xlim\": [0.0, 6.0], \"ydomain\": [0.0, 6.0], \"sharex\": [], \"markers\": [], \"images\": [], \"bbox\": [0.125, 0.09999999999999998, 0.775, 0.8], \"ylim\": [0.0, 6.0], \"xdomain\": [0.0, 6.0], \"id\": \"el13999140698453156416\", \"yscale\": \"linear\", \"axes\": [{\"position\": \"bottom\", \"nticks\": 7, \"tickvalues\": null, \"scale\": \"linear\", \"grid\": {\"color\": \"#FFFFFF\", \"alpha\": 1.0, \"gridOn\": true, \"dasharray\": \"none\"}, \"tickformat\": null, \"fontsize\": 10.0}, {\"position\": \"left\", \"nticks\": 7, \"tickvalues\": null, \"scale\": \"linear\", \"grid\": {\"color\": \"#FFFFFF\", \"alpha\": 1.0, \"gridOn\": true, \"dasharray\": \"none\"}, \"tickformat\": null, \"fontsize\": 10.0}], \"zoomable\": true, \"collections\": [{\"offsets\": \"data01\", \"pathtransforms\": [[35.136418446315325, 0.0, 0.0, 35.136418446315325, 0.0, 0.0]], \"zorder\": 1, \"alphas\": [null], \"xindex\": 0, \"yindex\": 1, \"pathcoordinates\": \"display\", \"edgewidths\": [0.3], \"offsetcoordinates\": \"data\", \"facecolors\": [\"#0000FF\"], \"id\": \"el13999140698452830192\", \"paths\": [[[[0.0, -0.5], [0.13260155, -0.5], [0.25978993539242673, -0.44731684579412084], [0.3535533905932738, -0.3535533905932738], [0.44731684579412084, -0.25978993539242673], [0.5, -0.13260155], [0.5, 0.0], [0.5, 0.13260155], [0.44731684579412084, 0.25978993539242673], [0.3535533905932738, 0.3535533905932738], [0.25978993539242673, 0.44731684579412084], [0.13260155, 0.5], [0.0, 0.5], [-0.13260155, 0.5], [-0.25978993539242673, 0.44731684579412084], [-0.3535533905932738, 0.3535533905932738], [-0.44731684579412084, 0.25978993539242673], [-0.5, 0.13260155], [-0.5, 0.0], [-0.5, -0.13260155], [-0.44731684579412084, -0.25978993539242673], [-0.3535533905932738, -0.3535533905932738], [-0.25978993539242673, -0.44731684579412084], [-0.13260155, -0.5], [0.0, -0.5]], [\"M\", \"C\", \"C\", \"C\", \"C\", \"C\", \"C\", \"C\", \"C\", \"Z\"]]], \"edgecolors\": [\"#000000\"]}], \"texts\": [], \"xscale\": \"linear\", \"sharey\": [], \"lines\": [], \"paths\": [], \"axesbg\": \"#EAEAF2\", \"axesbgalpha\": null}], \"width\": 640.0});\n",
       "            })\n",
       "         });\n",
       "}\n",
       "</script>"
      ],
      "text/plain": [
       "<matplotlib.figure.Figure at 0x7ff6e9522208>"
      ]
     },
     "execution_count": 14,
     "metadata": {},
     "output_type": "execute_result"
    }
   ],
   "source": [
    "fig"
   ]
  },
  {
   "cell_type": "code",
   "execution_count": null,
   "metadata": {
    "collapsed": true
   },
   "outputs": [],
   "source": []
  }
 ],
 "metadata": {
  "kernelspec": {
   "display_name": "Python 3",
   "language": "python",
   "name": "python3"
  },
  "language_info": {
   "codemirror_mode": {
    "name": "ipython",
    "version": 3
   },
   "file_extension": ".py",
   "mimetype": "text/x-python",
   "name": "python",
   "nbconvert_exporter": "python",
   "pygments_lexer": "ipython3",
   "version": "3.4.0"
  }
 },
 "nbformat": 4,
 "nbformat_minor": 0
}
