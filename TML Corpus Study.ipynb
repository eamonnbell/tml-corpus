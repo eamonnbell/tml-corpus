{
 "cells": [
  {
   "cell_type": "code",
   "execution_count": 1,
   "metadata": {
    "collapsed": true
   },
   "outputs": [],
   "source": [
    "import glob\n",
    "import re\n",
    "import bs4\n",
    "import cltk\n",
    "import nltk\n",
    "\n",
    "import numpy as np\n",
    "from collections import defaultdict, Counter\n",
    "from nltk.tokenize.punkt import PunktLanguageVars\n",
    "\n",
    "from sklearn.metrics.pairwise import cosine_similarity\n",
    "import matplotlib.pyplot as plt\n",
    "from scipy.cluster.hierarchy import ward, dendrogram   \n",
    "\n",
    "from sklearn.feature_extraction.text import TfidfVectorizer\n",
    "from cltk.stop.latin.stops import STOPS_LIST\n",
    "\n",
    "import itertools\n",
    "\n",
    "stop_words = STOPS_LIST.extend(['quod', 'vel', 'sunt', 'hoc', 'vero', 'sit', 'sol', 'que', 'esse'])\n",
    "\n",
    "%matplotlib inline"
   ]
  },
  {
   "cell_type": "code",
   "execution_count": 2,
   "metadata": {
    "collapsed": false
   },
   "outputs": [
    {
     "name": "stderr",
     "output_type": "stream",
     "text": [
      "INFO:CLTK:Pulling latest 'latin_text_latin_library' from 'https://github.com/cltk/latin_text_latin_library.git'.\n",
      "INFO:CLTK:Pulling latest 'latin_pos_lemmata_cltk' from 'https://github.com/cltk/latin_pos_lemmata_cltk.git'.\n",
      "INFO:CLTK:Pulling latest 'latin_models_cltk' from 'https://github.com/cltk/latin_models_cltk.git'.\n"
     ]
    }
   ],
   "source": [
    "from cltk.corpus.utils.importer import CorpusImporter\n",
    "\n",
    "corpus_importer = CorpusImporter('latin')\n",
    "corpus_importer.import_corpus('latin_text_latin_library')\n",
    "corpus_importer.import_corpus('latin_pos_lemmata_cltk')\n",
    "corpus_importer.import_corpus('latin_models_cltk')"
   ]
  },
  {
   "cell_type": "code",
   "execution_count": 3,
   "metadata": {
    "collapsed": false
   },
   "outputs": [],
   "source": [
    "# This corpus comes from the Thesaurus Musicarum Latinarum.\n",
    "\n",
    "corpus_files = glob.glob('corpus/html/*.html')"
   ]
  },
  {
   "cell_type": "code",
   "execution_count": 4,
   "metadata": {
    "collapsed": false
   },
   "outputs": [],
   "source": [
    "soups = [bs4.BeautifulSoup(open(file), 'lxml') for file in corpus_files]"
   ]
  },
  {
   "cell_type": "code",
   "execution_count": 5,
   "metadata": {
    "collapsed": false
   },
   "outputs": [],
   "source": [
    "def process_soup(soup):\n",
    "    \"Takes a bs4 BeautifulSoup object and returns a dict with document content and metadata.\"\n",
    "    corpus_item = {}\n",
    "    \n",
    "    header = soup.find('p')\n",
    "\n",
    "    original = \" \".join([n for n in soup.findAll(text=True)])\n",
    "    \n",
    "    body = \"\".join([p.text for p in soup.findAll('p')[1:]])\n",
    "    body = remove_newlines(body)\n",
    "    body = remove_doublespace(body)\n",
    "    body = remove_editorial_apparatus(body)\n",
    "    body = join_hyphens(body)\n",
    "    \n",
    "    century_re = re.compile('.*www.chmtl.indiana.edu\\/tml\\/(\\w+\\W*\\w+)\\/.*')\n",
    "    \n",
    "    try:\n",
    "        comments = \"\".join(soup.findAll(text=lambda text:isinstance(text, bs4.Comment)))\n",
    "        century = century_re.match(comments).groups()[0]\n",
    "        corpus_item['century'] = century\n",
    "    except:\n",
    "        corpus_item['century'] = 'nd'\n",
    "\n",
    "    corpus_item['body'] = body.strip()\n",
    "    corpus_item['id'] = soup.title.text.split(' ')[0]\n",
    "    \n",
    "    match = re.search(r\"Author:\\s(.*)\", original)\n",
    "    \n",
    "    if match:\n",
    "        result = match.group(1)\n",
    "    else:\n",
    "        result = \"\"\n",
    "    \n",
    "    corpus_item['author'] = result\n",
    "    \n",
    "    match = re.search(r\"Title:\\s(.*)\", original)\n",
    "    \n",
    "    if match:\n",
    "        result = match.group(1)\n",
    "    else:\n",
    "        result = \"\"\n",
    "        \n",
    "    corpus_item['title'] = result\n",
    "    \n",
    "    return corpus_item\n",
    "\n",
    "def remove_editorial_apparatus(text):\n",
    "    \"Removes all text enclosed in square brackets.\"\n",
    "    pattern = re.compile('\\[.+?\\]')\n",
    "    return pattern.sub('', text)\n",
    "\n",
    "def remove_newlines(text):\n",
    "    \"Replaces newlines with spaces.\"\n",
    "    return text.replace('\\n', ' ')\n",
    "\n",
    "def remove_doublespace(text):\n",
    "    \"Removes any doublespaces.\"\n",
    "    return text.replace('  ', ' ')\n",
    "\n",
    "def join_hyphens(text):\n",
    "    \"Joins hyphens used at ends of lines.\"\n",
    "    return text.replace('-\\n', '')\n",
    "\n",
    "def my_tokenize(document):\n",
    "    \"Tokenizes a document, represented as a string using Punkt.\"\n",
    "    p = PunktLanguageVars()\n",
    "    tokens = p.word_tokenize(document)\n",
    "    tokens = [x.lower() for x in tokens if x not in (',', ';', '.', \"'\", '\"',':',')','(', '|' , '||' )]\n",
    "    return tokens"
   ]
  },
  {
   "cell_type": "code",
   "execution_count": 6,
   "metadata": {
    "collapsed": false
   },
   "outputs": [],
   "source": [
    "corpus = []\n",
    "\n",
    "for soup in soups:\n",
    "    try:\n",
    "        corpus_item = process_soup(soup)\n",
    "    except:\n",
    "        continue\n",
    "        \n",
    "    corpus.append(corpus_item)"
   ]
  },
  {
   "cell_type": "code",
   "execution_count": 7,
   "metadata": {
    "collapsed": false
   },
   "outputs": [
    {
     "data": {
      "text/plain": [
       "807"
      ]
     },
     "execution_count": 7,
     "metadata": {},
     "output_type": "execute_result"
    }
   ],
   "source": [
    "len(corpus)"
   ]
  },
  {
   "cell_type": "code",
   "execution_count": 8,
   "metadata": {
    "collapsed": false
   },
   "outputs": [],
   "source": [
    "def prepare_id_info_map(corpus):\n",
    "    id_info_map = {}\n",
    "    for item in corpus:\n",
    "        info = {\n",
    "            'author' : item['author'],\n",
    "            'title' : item['title'],\n",
    "            'id' : item['id'],\n",
    "            'century': item['century'],\n",
    "            'length' : len(my_tokenize(item['body']))\n",
    "        }\n",
    "        id_info_map[item['id']] = info\n",
    "    return id_info_map"
   ]
  },
  {
   "cell_type": "code",
   "execution_count": 9,
   "metadata": {
    "collapsed": true
   },
   "outputs": [],
   "source": [
    "id_info_map = prepare_id_info_map(corpus)"
   ]
  },
  {
   "cell_type": "code",
   "execution_count": 10,
   "metadata": {
    "collapsed": false
   },
   "outputs": [
    {
     "data": {
      "text/plain": [
       "{'author': 'Aaron, Petrus',\n",
       " 'century': '16th',\n",
       " 'id': 'AARIH1',\n",
       " 'length': 10496,\n",
       " 'title': 'De institutione harmonica, liber primus'}"
      ]
     },
     "execution_count": 10,
     "metadata": {},
     "output_type": "execute_result"
    }
   ],
   "source": [
    "id_info_map['AARIH1']"
   ]
  },
  {
   "cell_type": "code",
   "execution_count": 11,
   "metadata": {
    "collapsed": true
   },
   "outputs": [],
   "source": [
    "def filter_stopwords(tokens):\n",
    "    \"Filters stopwords from list of tokens.\"\n",
    "    return [token for token in tokens if token not in STOPS_LIST]\n",
    "\n",
    "def filter_shortwords(tokens, short_size=2):\n",
    "    \"Filters tokens of size greater than short_size from list of tokens.\"\n",
    "    return [token for token in tokens if len(token) > short_size]"
   ]
  },
  {
   "cell_type": "code",
   "execution_count": 12,
   "metadata": {
    "collapsed": false
   },
   "outputs": [],
   "source": [
    "from cltk.stem.lemma import LemmaReplacer\n",
    "\n",
    "lemmatizer = LemmaReplacer('latin')"
   ]
  },
  {
   "cell_type": "code",
   "execution_count": 13,
   "metadata": {
    "collapsed": false
   },
   "outputs": [],
   "source": [
    "def prep(document):\n",
    "    \"A convenience function which applies a series of operations to a document represented in a string.\"\n",
    "    tokenized = my_tokenize(document)\n",
    "    stopped = filter_stopwords(tokenized)\n",
    "    shorted = filter_shortwords(stopped)\n",
    "    lemmatized = lemmatizer.lemmatize(shorted)\n",
    "    done = lemmatized\n",
    "    return done"
   ]
  },
  {
   "cell_type": "code",
   "execution_count": 14,
   "metadata": {
    "collapsed": false
   },
   "outputs": [
    {
     "data": {
      "text/plain": [
       "(79, 79, 79)"
      ]
     },
     "execution_count": 14,
     "metadata": {},
     "output_type": "execute_result"
    }
   ],
   "source": [
    "# This is some code to restrict sample to a certain set of parameters\n",
    "# TODO: Make a proper query interface for corpus entries\n",
    "\n",
    "q_century = '13th'\n",
    "q_min_size = 500\n",
    "q_max_size = 10000000\n",
    "\n",
    "sample = [treatise for treatise in corpus\\\n",
    "          if treatise['century'] == q_century\\\n",
    "          and len(treatise['body']) < q_max_size\\\n",
    "          and len(treatise['body']) > q_min_size]\n",
    "\n",
    "bodys = [treatise['body'] for treatise in sample]\n",
    "ids = [treatise['id'] for treatise in sample]\n",
    "titles = [treatise.get('title', 'nt')[:15] for treatise in sample]\n",
    "authors = [treatise.get('author', 'na')[:15] for treatise in sample]\n",
    "\n",
    "len(sample) , len(ids), len(titles)"
   ]
  },
  {
   "cell_type": "code",
   "execution_count": 15,
   "metadata": {
    "collapsed": false
   },
   "outputs": [
    {
     "data": {
      "image/png": "[encoded data removed]",
      "text/plain": [
       "<matplotlib.figure.Figure at 0x7f9372b08b70>"
      ]
     },
     "metadata": {},
     "output_type": "display_data"
    }
   ],
   "source": [
    "lengths = [len(treatise['body']) for treatise in sample]\n",
    "plt.hist(lengths, bins=12)\n",
    "plt.title('Histogram of text lengths (characters) in 13C treatises.')\n",
    "plt.show()"
   ]
  },
  {
   "cell_type": "markdown",
   "metadata": {},
   "source": [
    "## Text Similarity - Ward clustering in tf-idf space"
   ]
  },
  {
   "cell_type": "code",
   "execution_count": 31,
   "metadata": {
    "collapsed": false
   },
   "outputs": [],
   "source": [
    "documents = [doc['body'] for doc in corpus]\n",
    "\n",
    "tfidf = TfidfVectorizer(tokenizer=prep, stop_words=stop_words)\n",
    "tfs = tfidf.fit_transform(documents)"
   ]
  },
  {
   "cell_type": "code",
   "execution_count": 32,
   "metadata": {
    "collapsed": false
   },
   "outputs": [],
   "source": [
    "tfs = tfidf.transform(bodys)\n",
    "tfs.shape\n",
    "\n",
    "dist = 1 - cosine_similarity(tfs)"
   ]
  },
  {
   "cell_type": "code",
   "execution_count": 33,
   "metadata": {
    "collapsed": false,
    "scrolled": true
   },
   "outputs": [
    {
     "data": {
      "image/png": "[encoded data removed]",
      "text/plain": [
       "<matplotlib.figure.Figure at 0x7f92fc69d320>"
      ]
     },
     "metadata": {},
     "output_type": "display_data"
    }
   ],
   "source": [
    "linkage_matrix = ward(dist)\n",
    "\n",
    "fig, ax = plt.subplots(figsize=(5, 15)) # set size\n",
    "ax = dendrogram(linkage_matrix, orientation=\"right\", labels=authors);\n",
    "\n",
    "plt.tick_params(axis='x',          \n",
    "    which='both',      \n",
    "    bottom='off',      \n",
    "    top='off',         \n",
    "    labelbottom='off')\n",
    "\n",
    "plt.tight_layout() "
   ]
  },
  {
   "cell_type": "markdown",
   "metadata": {},
   "source": [
    "## Text reuse - Study B \n",
    "\n",
    "Reimplementation of the Viral Texts methodology\n",
    "\n",
    "Part I. Identify document pair candidates\n",
    "\n",
    "1. Pick out a subset of all the texts for testing purposes\n",
    "2. ~~Make a hashmap id -> tokenized text~~\n",
    "3. Make a hashmap id -> shingled text\n",
    "4. For each n-gram, create a list of (d_i, p_i) - document ID and position ID\n",
    "5. Exclude singleton n-grams\n",
    "6. Extract candidate pairs\n",
    "7. Filter (e.g. suppress n-grams that generate more than some fixed number of pairs)\n",
    "8. Rank\n",
    "\n",
    "Part II. Local document alignment\n",
    "\n",
    "1. Do Smith-Waterman "
   ]
  },
  {
   "cell_type": "code",
   "execution_count": 34,
   "metadata": {
    "collapsed": false
   },
   "outputs": [],
   "source": [
    "import random\n",
    "\n",
    "N = 5\n",
    "\n",
    "def zipngram(document_tokens,n=N):\n",
    "    return zip(*[document_tokens[i:] for i in range(n)])"
   ]
  },
  {
   "cell_type": "code",
   "execution_count": 17,
   "metadata": {
    "collapsed": false
   },
   "outputs": [],
   "source": [
    "def prepare_ngram_index(id_shingled_map):\n",
    "    ngram_index = defaultdict(list)\n",
    "    \n",
    "    for _id, shingled_rep in id_shingled_map.items():\n",
    "        for position, n_gram in enumerate(shingled_rep):\n",
    "            ngram_index[n_gram].append((_id, position))\n",
    "    \n",
    "    return ngram_index\n",
    "\n",
    "def filter_singletons(ngram_index):\n",
    "    # Naive implementation not advised in article\n",
    "    # TODO: Implement nice two-pass hash fxn. method\n",
    "    filtered_ngram_index = {}\n",
    "    \n",
    "    for ngram, locations in ngram_index.items():\n",
    "        if len(locations) > 1:\n",
    "            filtered_ngram_index[ngram] = locations\n",
    "    \n",
    "    return filtered_ngram_index\n",
    "\n",
    "def prepare_id_tokenized_map(corpus):\n",
    "    id_tokenized_map = {}\n",
    "    \n",
    "    for text in corpus:\n",
    "        id_tokenized_map[text['id']] = my_tokenize(text['body'])\n",
    "        \n",
    "    return id_tokenized_map\n",
    "            \n",
    "def prepare_id_shingled_map(corpus): \n",
    "    id_shingled_map = {}\n",
    "    \n",
    "    for text in corpus:\n",
    "        tokenized_body = my_tokenize(text['body'])\n",
    "        id_shingled_map[text['id']] = zipngram(tokenized_body, N)\n",
    "    \n",
    "    return id_shingled_map\n",
    "\n",
    "def prepare_pair_ngrams_map(ngram_index):\n",
    "    pair_ngrams_map = defaultdict(list)\n",
    "    \n",
    "    for ngram, locations in ngram_index.items():\n",
    "        documents = list(set([location[0] for location in locations]))\n",
    "        for p in itertools.combinations(documents, 2):\n",
    "            pair_ngrams_map[p].append(ngram)\n",
    "    \n",
    "    return pair_ngrams_map"
   ]
  },
  {
   "cell_type": "code",
   "execution_count": 18,
   "metadata": {
    "collapsed": true
   },
   "outputs": [],
   "source": [
    "subset = corpus"
   ]
  },
  {
   "cell_type": "code",
   "execution_count": 19,
   "metadata": {
    "collapsed": false
   },
   "outputs": [
    {
     "name": "stdout",
     "output_type": "stream",
     "text": [
      "CPU times: user 14.4 s, sys: 291 ms, total: 14.7 s\n",
      "Wall time: 15.1 s\n"
     ]
    }
   ],
   "source": [
    "%time id_tokenized_map = prepare_id_tokenized_map(subset)"
   ]
  },
  {
   "cell_type": "code",
   "execution_count": 20,
   "metadata": {
    "collapsed": false
   },
   "outputs": [
    {
     "name": "stdout",
     "output_type": "stream",
     "text": [
      "CPU times: user 15.5 s, sys: 260 ms, total: 15.8 s\n",
      "Wall time: 15.9 s\n"
     ]
    }
   ],
   "source": [
    "%time id_shingled_map = prepare_id_shingled_map(subset)"
   ]
  },
  {
   "cell_type": "code",
   "execution_count": 21,
   "metadata": {
    "collapsed": false
   },
   "outputs": [
    {
     "name": "stdout",
     "output_type": "stream",
     "text": [
      "CPU times: user 16.8 s, sys: 1.84 s, total: 18.7 s\n",
      "Wall time: 19.3 s\n"
     ]
    }
   ],
   "source": [
    "%time idx = prepare_ngram_index(id_shingled_map)"
   ]
  },
  {
   "cell_type": "code",
   "execution_count": 22,
   "metadata": {
    "collapsed": false
   },
   "outputs": [
    {
     "name": "stdout",
     "output_type": "stream",
     "text": [
      "CPU times: user 2.05 s, sys: 102 ms, total: 2.15 s\n",
      "Wall time: 2.32 s\n"
     ]
    }
   ],
   "source": [
    "%time filtered_idx = filter_singletons(idx)"
   ]
  },
  {
   "cell_type": "code",
   "execution_count": 23,
   "metadata": {
    "collapsed": false
   },
   "outputs": [],
   "source": [
    "assert len(idx) > len(filtered_idx)"
   ]
  },
  {
   "cell_type": "markdown",
   "metadata": {},
   "source": [
    "Let's have a look inside this index, shall we?"
   ]
  },
  {
   "cell_type": "code",
   "execution_count": 24,
   "metadata": {
    "collapsed": false
   },
   "outputs": [],
   "source": [
    "def ngram_index_freq(index, blacklist=[]):\n",
    "    freqs = Counter()\n",
    "    for ngram, locations in index.items():\n",
    "        if not bool(set(ngram) & set(blacklist)):\n",
    "            freqs[ngram] += len(locations)\n",
    "    return freqs"
   ]
  },
  {
   "cell_type": "code",
   "execution_count": 25,
   "metadata": {
    "collapsed": false
   },
   "outputs": [
    {
     "data": {
      "text/plain": [
       "[(('c', 'd', 'e', 'f', 'g'), 656),\n",
       " (('a', 'b', 'c', 'd', 'e'), 428),\n",
       " (('b', 'c', 'd', 'e', 'f'), 416),\n",
       " (('ut', 're', 'mi', 'fa', 'sol'), 337),\n",
       " (('re', 'mi', 'fa', 'sol', 'la'), 316),\n",
       " (('d', 'e', 'f', 'g', 'a'), 253),\n",
       " (('in', 'g', 'sol', 're', 'ut'), 228),\n",
       " (('in', 'a', 'la', 'mi', 're'), 221),\n",
       " (('in', 'c', 'sol', 'fa', 'ut'), 178),\n",
       " (('a', 'c', 'd', 'e', 'f'), 138),\n",
       " (('e', 'f', 'g', 'a', 'b'), 126),\n",
       " (('g', 'a', 'b', 'c', 'd'), 126),\n",
       " (('f', 'g', 'a', 'b', 'c'), 121),\n",
       " (('aut', 'duos', 'tres', 'aut', 'quatuor'), 118),\n",
       " (('re', 'mi', 'fa', 'sol', 'la.'), 111),\n",
       " (('d', 'e', 'f', 'g', 'aa'), 110),\n",
       " (('in', 'd', 'la', 'sol', 're'), 109),\n",
       " (('gloria', 'patri', 'et', 'filio', 'et'), 108),\n",
       " (('patri', 'et', 'filio', 'et', 'spiritui'), 103),\n",
       " (('c.', 'd.', 'e.', 'f.', 'g.'), 100),\n",
       " (('a', 'dia', 'quod', 'est', 'de'), 98),\n",
       " (('e', 'la', 'mi', 'f', 'fa'), 92),\n",
       " (('dia', 'quod', 'est', 'de', 'et'), 92),\n",
       " (('ut', 'g', 'sol', 're', 'ut'), 88),\n",
       " (('ex', 'duobus', 'tonis', 'et', 'semitonio'), 87),\n",
       " (('sol', 're', 'e', 'la', 'mi'), 86),\n",
       " (('fa', 'ut', 'g', 'sol', 're'), 86),\n",
       " (('la', 'mi', 'f', 'fa', 'ut'), 84),\n",
       " (('g', 'sol', 're', 'ut', 'et'), 83),\n",
       " (('a', 'dya', 'quod', 'est', 'de'), 82),\n",
       " (('est', 'quando', 'maior', 'numerus', 'continet'), 79),\n",
       " (('c', 'd', 'e', 'f', 'g.'), 77),\n",
       " (('f', 'fa', 'ut', 'g', 'sol'), 77),\n",
       " (('scilicet', 'ut', 're', 'mi', 'fa'), 77),\n",
       " (('ut', 'hic', 'patet', 'in', 'exemplo'), 76),\n",
       " (('dya', 'quod', 'est', 'de', 'et'), 76),\n",
       " (('re', 'e', 'la', 'mi', 'f'), 75),\n",
       " (('dicitur', 'a', 'dia', 'quod', 'est'), 73),\n",
       " (('nisi', 'per', 'divisionem', 'modi', 'aliter'), 72),\n",
       " (('unum', 'gradum', 'aut', 'duos', 'tres'), 71),\n",
       " (('gradum', 'aut', 'duos', 'tres', 'aut'), 71),\n",
       " (('fa', 'ut', 'd', 'sol', 're'), 71),\n",
       " (('et', 'punctum', 'scabelli', 'scilicet', 'h'), 71),\n",
       " (('ex', 'tono', 'et', 'semitonio', 'et'), 70),\n",
       " (('c', 'fa', 'ut', 'd', 'sol'), 70),\n",
       " (('b.', 'c.', 'd.', 'e.', 'f.'), 70),\n",
       " (('c', 'sol', 'fa', 'ut', 'et'), 67),\n",
       " (('e', 'f', 'g', 'a', 'c'), 67),\n",
       " (('proportio', 'est', 'quando', 'maior', 'numerus'), 67),\n",
       " (('f', 'g', 'a', 'c', 'd'), 67)]"
      ]
     },
     "execution_count": 25,
     "metadata": {},
     "output_type": "execute_result"
    }
   ],
   "source": [
    "freq = ngram_index_freq(filtered_idx)\n",
    "freq.most_common(50)"
   ]
  },
  {
   "cell_type": "markdown",
   "metadata": {},
   "source": [
    "There's a lot of scale segments... We could do a couple of things about this, I suppose. Let's find out the most common tokens in the dataset and exclude any ngrams from this list which contain a token that appears close to the top of that list."
   ]
  },
  {
   "cell_type": "code",
   "execution_count": 26,
   "metadata": {
    "collapsed": true
   },
   "outputs": [],
   "source": [
    "def count_all_tokens(id_tokenized_map):\n",
    "    all_tokens = []\n",
    "    for _id, tokens in id_tokenized_map.items():\n",
    "        all_tokens.extend(tokens)\n",
    "    return Counter(all_tokens)"
   ]
  },
  {
   "cell_type": "code",
   "execution_count": 27,
   "metadata": {
    "collapsed": false
   },
   "outputs": [],
   "source": [
    "token_counter = count_all_tokens(id_tokenized_map)"
   ]
  },
  {
   "cell_type": "code",
   "execution_count": 28,
   "metadata": {
    "collapsed": false
   },
   "outputs": [],
   "source": [
    "def top_n_tokens(id_tokenized_map, n):\n",
    "    token_counter = count_all_tokens(id_tokenized_map)\n",
    "    return [t[0] for t in token_counter.most_common(n)]\n",
    "\n",
    "top_100_tokens = top_n_tokens(id_tokenized_map, 100)"
   ]
  },
  {
   "cell_type": "code",
   "execution_count": 29,
   "metadata": {
    "collapsed": false
   },
   "outputs": [
    {
     "data": {
      "text/plain": [
       "[(('c.', 'd.', 'e.', 'f.', 'g.'), 100),\n",
       " (('b.', 'c.', 'd.', 'e.', 'f.'), 70),\n",
       " (('a.', 'b.', 'c.', 'd.', 'e.'), 64),\n",
       " (('2', '3', '4', '5', '6'), 39),\n",
       " (('1', '2', '3', '4', '5'), 39),\n",
       " (('3', '4', '5', '6', '7'), 38),\n",
       " (('aa', 'bb', 'cc', 'dd', 'ee'), 38),\n",
       " (('4', '5', '6', '7', '8'), 30),\n",
       " (('divisio', 'ii', 'authenticus', 'protus', 'antiphona'), 29),\n",
       " (('d.', 'e.', 'f.', 'g.', 'a.'), 29),\n",
       " (('hypate', 'meson', 'parhypate', 'meson', 'lichanos'), 27),\n",
       " (('acuti', 'soni', 'gravisque', 'mixtura', 'suaviter'), 27),\n",
       " (('gravisque', 'mixtura', 'suaviter', 'uniformiterque', 'auribus'), 26),\n",
       " (('hypate', 'hypaton', 'parhypate', 'hypaton', 'lichanos'), 26),\n",
       " (('h', 'i', 'k', 'l', 'm'), 26),\n",
       " (('mediatis', 'manus', 'musicalis', 'partibus', 'existentium'), 25),\n",
       " (('k', 'l', 'm', 'n', 'o'), 25),\n",
       " (('hypaton', 'hypate', 'meson', 'parhypate', 'meson'), 24),\n",
       " (('i', 'k', 'l', 'm', 'n'), 24),\n",
       " (('vi', 'vi', 'vi', 'viii', 'viii'), 24)]"
      ]
     },
     "execution_count": 29,
     "metadata": {},
     "output_type": "execute_result"
    }
   ],
   "source": [
    "freq = ngram_index_freq(filtered_idx, blacklist=top_100_tokens)\n",
    "freq.most_common(20)"
   ]
  },
  {
   "cell_type": "markdown",
   "metadata": {},
   "source": [
    "A bit better this time. Let's check out the provenance of the phrase:\n",
    "\n",
    "> acuti soni gravisque mixtura suaviter\n",
    "\n",
    "which appears 26 times in the corpus."
   ]
  },
  {
   "cell_type": "code",
   "execution_count": 30,
   "metadata": {
    "collapsed": false
   },
   "outputs": [
    {
     "name": "stdout",
     "output_type": "stream",
     "text": [
      "BOEMUS1 Boethius, Anicius Manlius Severinus De institutione musi 3413 0.3956184073258375 6th-8th\n",
      "IERTRA1 Ieronimus de Moravia Tractatus de musica 14204 0.3547895591357562 13th\n",
      "MARLU5 Marchetus de Padua Lucidarium, tractatu 45 0.04079782411604715 14th\n",
      "MURMSPEW Johannes de Muris Musica speculativa s 970 0.13388543823326432 14th\n",
      "REGHAR Regino Prumiensis Epistola de harmonic 2830 0.41289757805660926 9th-11th\n",
      "GUIENC Guillermus de Podio Enchiridion de princ 580 0.05326476260446322 15th\n",
      "MURMSP Johannes de Muris Musica speculativa 960 0.13344453711426188 14th\n",
      "MURMUS Johannes de Muris Tractatus de musica 3804 0.3984080435693339 14th\n",
      "CICNM1 Ciconia, Johannes Nova musica, liber p 12629 0.9384706844021699 15th\n",
      "IERTDM1 Ieronimus de Moravia Tractatus de musica 14255 0.35352909081890777 13th\n",
      "GAFEXT Gaffurio, Franchino Extractus parvus mus 4390 0.12124727262684011 15th\n",
      "GAFEXT Gaffurio, Franchino Extractus parvus mus 12631 0.3488551937470655 15th\n",
      "UGODEC5 Ugolino Urbevetanis Declaratio musicae d 3188 0.08709906562482925 15th\n",
      "UGODEC5 Ugolino Urbevetanis Declaratio musicae d 5560 0.15190426752636468 15th\n",
      "UGODEC5 Ugolino Urbevetanis Declaratio musicae d 5912 0.1615212283481777 15th\n",
      "JACSP4 Jacobus Leodiensis Speculum musicae, Li 24832 0.7407230640734996 14th\n",
      "ANO1DEM Anonymous I De musica antiqua et 7750 0.7275628989861059 14th\n",
      "MURMSPE Johannes de Muris Musica speculativa 984 0.14545454545454545 14th\n",
      "MURMUSI Johannes de Muris Musica speculativa 1336 0.163966617574865 14th\n",
      "BOEDIM1 Boethius, Anicius Manlius Severinus De institutione musi 3104 0.36742424242424243 6th-8th\n",
      "QUAPRIB4 Anonymous Quatuor Principalia  9641 0.6153306101608373 14th\n",
      "UGODEC1A Ugolino Urbevetanis Declaratio musicae d 15249 0.4962574850299401 15th\n",
      "REGDHI Regino Prumiensis De harmonica institu 2769 0.4055360281195079 9th-11th\n",
      "MARLUC5 Marchetus de Padua Lucidarium, tractatu 50 0.044169611307420496 14th\n",
      "JACSP2A Jacobus Leodiensis Speculum musicae, Li 5137 0.13988508564115132 14th\n",
      "ANODUL2 Anonymous Dulce ingenium (Vers 1614 0.41459029026457744 9th-11th\n",
      "JACCDM Jacobus Leodiensis Compendium de musica 390 0.05719313682358117 14th\n"
     ]
    }
   ],
   "source": [
    "locations = filtered_idx[('acuti', 'soni', 'gravisque', 'mixtura', 'suaviter')]\n",
    "for _id, position in locations:\n",
    "    info = id_info_map[_id]\n",
    "    print(_id, info['author'], info['title'][:20], position, position / info['length'], info['century'])"
   ]
  },
  {
   "cell_type": "markdown",
   "metadata": {},
   "source": [
    "Continuing to search for candidate document pairs, let's go on an make a dict that has pairs of documents as its keys and a list of ngrams that each share is its values."
   ]
  },
  {
   "cell_type": "code",
   "execution_count": 35,
   "metadata": {
    "collapsed": false
   },
   "outputs": [
    {
     "name": "stdout",
     "output_type": "stream",
     "text": [
      "CPU times: user 2.87 s, sys: 51.8 ms, total: 2.92 s\n",
      "Wall time: 2.99 s\n"
     ]
    }
   ],
   "source": [
    "%time pair_ngrams_map = prepare_pair_ngrams_map(filtered_idx)"
   ]
  },
  {
   "cell_type": "code",
   "execution_count": 36,
   "metadata": {
    "collapsed": false
   },
   "outputs": [],
   "source": [
    "def p_n_map_ngrams_freq(pair_ngrams_map):\n",
    "    freqs = Counter()\n",
    "    for pair, ngrams in pair_ngrams_map.items():\n",
    "        freqs[pair] += len(ngrams)\n",
    "    return freqs"
   ]
  },
  {
   "cell_type": "code",
   "execution_count": 37,
   "metadata": {
    "collapsed": false
   },
   "outputs": [
    {
     "data": {
      "text/plain": [
       "[(('IERTDM1', 'IERTRA1'), 21045),\n",
       " (('ANO1279', 'ANODMM'), 15478),\n",
       " (('JACSP6B', 'JACSM6B'), 14659),\n",
       " (('MARPOME', 'MARPOM'), 14410),\n",
       " (('GUICOM', 'GUICOMS'), 14010),\n",
       " (('JACSP7', 'JACSM7'), 13533),\n",
       " (('JACSM6A', 'JACSP6A'), 12850),\n",
       " (('PEPESUM', 'MURSUM'), 10854),\n",
       " (('JOHMU', 'JOHMUS'), 10543),\n",
       " (('REMMUSI', 'REMMUS'), 10320)]"
      ]
     },
     "execution_count": 37,
     "metadata": {},
     "output_type": "execute_result"
    }
   ],
   "source": [
    "freq = p_n_map_ngrams_freq(pair_ngrams_map)\n",
    "freq.most_common(10)"
   ]
  },
  {
   "cell_type": "markdown",
   "metadata": {},
   "source": [
    "Create a borrowing network"
   ]
  },
  {
   "cell_type": "code",
   "execution_count": 38,
   "metadata": {
    "collapsed": false
   },
   "outputs": [],
   "source": [
    "def p_n_map_to_weighted_edges(pair_ngrams_map, min_ngrams=50, max_ngrams=5000):\n",
    "    edges = []\n",
    "    for pair, ngrams in pair_ngrams_map.items():\n",
    "        if min_ngrams < len(ngrams) < max_ngrams:\n",
    "            edges.append(\"{},{},{}\\n\".format(pair[0], pair[1], len(ngrams)))\n",
    "    \n",
    "    return edges"
   ]
  },
  {
   "cell_type": "code",
   "execution_count": 39,
   "metadata": {
    "collapsed": true
   },
   "outputs": [],
   "source": [
    "edges = p_n_map_to_weighted_edges(pair_ngrams_map)"
   ]
  },
  {
   "cell_type": "code",
   "execution_count": 40,
   "metadata": {
    "collapsed": false
   },
   "outputs": [],
   "source": [
    "def write_edges_to_file(edges, file=open('graph.txt', 'w')):\n",
    "    file.write('source,target,weight\\n')\n",
    "    file.writelines(edges)\n",
    "    file.close()"
   ]
  },
  {
   "cell_type": "code",
   "execution_count": 41,
   "metadata": {
    "collapsed": true
   },
   "outputs": [],
   "source": [
    "write_edges_to_file(edges)"
   ]
  },
  {
   "cell_type": "markdown",
   "metadata": {},
   "source": [
    "## Text reuse - Study A\n",
    "\n",
    "1. Convert each document to a list of n-grams (say n=3)\n",
    "2. Convert the remainder of the corpus to a list of n-grams (same n), and that into a Counter\n",
    "3. For each document, iterate through the list of n-grams\n",
    "4. If the n-gram is appears in the rest of the corpus, make a note of that and how many times it appears\n",
    "5. End up with a \"heatmap\" of reuse"
   ]
  },
  {
   "cell_type": "code",
   "execution_count": 42,
   "metadata": {
    "collapsed": false
   },
   "outputs": [],
   "source": [
    "from nltk.util import ngrams\n",
    "\n",
    "import itertools\n",
    "\n",
    "N = 3\n",
    "\n",
    "corpus_tokens_list = [prep(document) for document in bodys]"
   ]
  },
  {
   "cell_type": "code",
   "execution_count": 43,
   "metadata": {
    "collapsed": true
   },
   "outputs": [],
   "source": [
    "def zipngram(document_tokens,n=N):\n",
    "    return zip(*[document_tokens[i:] for i in range(n)])\n",
    "\n",
    "def generate_slice(index, document, sample):\n",
    "    # Document being studied for text reuse\n",
    "    document = document\n",
    "    # Make a list of the other documents\n",
    "    others = [d for j, d in enumerate(sample) if j != index]\n",
    "\n",
    "    # Tokenize\n",
    "    document_tokens = prep(document)\n",
    "    others_tokens_list = corpus_tokens_list\n",
    "\n",
    "    # Get n-grams\n",
    "    document_ngrams_generator = zipngram(document_tokens, N)\n",
    "    document_ngrams = [x for x in document_ngrams_generator]\n",
    "    others_ngrams_list = [zipngram(other_tokens, N) for other_tokens in others_tokens_list]\n",
    "\n",
    "    # Create counter implemented with defaultdict for remainders\n",
    "    flat = itertools.chain(*others_ngrams_list)\n",
    "    o_counter = Counter(flat)\n",
    "\n",
    "    heatslice = [o_counter.get(ngram, 0) for ngram in document_ngrams]\n",
    "    return heatslice, document_ngrams"
   ]
  },
  {
   "cell_type": "code",
   "execution_count": 44,
   "metadata": {
    "collapsed": false
   },
   "outputs": [],
   "source": [
    "def construct_heatmap():\n",
    "    for index, document in enumerate(bodys):\n",
    "        a_slice = generate_slice(index, document, bodys)\n",
    "        heatmap.append(a_slice[0])\n",
    "        documents_ngrams.append(a_slice[1])"
   ]
  },
  {
   "cell_type": "code",
   "execution_count": 45,
   "metadata": {
    "collapsed": false
   },
   "outputs": [],
   "source": [
    "def plot_heatmap():\n",
    "    length = len(sorted(heatmap,key=len, reverse=True)[0])\n",
    "    hm = np.array([xi+[0]*(length-len(xi)) for xi in heatmap])\n",
    "    fig, ax = plt.subplots(figsize=(15, 20))\n",
    "    ax.set_yticks(np.arange(hm.shape[0])+0.5, minor=False)\n",
    "    ax.set_yticklabels(ids)\n",
    "    ax.pcolormesh(hm)\n",
    "    fig.show()"
   ]
  },
  {
   "cell_type": "code",
   "execution_count": 46,
   "metadata": {
    "collapsed": false
   },
   "outputs": [],
   "source": [
    "heatmap = []\n",
    "documents_ngrams = []\n",
    "\n",
    "%matplotlib inline\n",
    "construct_heatmap()"
   ]
  },
  {
   "cell_type": "code",
   "execution_count": 47,
   "metadata": {
    "collapsed": false
   },
   "outputs": [
    {
     "name": "stderr",
     "output_type": "stream",
     "text": [
      "/home/eamonn/Projects/tml-corpus/venv/lib/python3.4/site-packages/matplotlib/figure.py:387: UserWarning: matplotlib is currently using a non-GUI backend, so cannot show the figure\n",
      "  \"matplotlib is currently using a non-GUI backend, \"\n"
     ]
    },
    {
     "data": {
      "image/png": "[encoded data removed]",
      "text/plain": [
       "<matplotlib.figure.Figure at 0x7f92fd1d6748>"
      ]
     },
     "metadata": {},
     "output_type": "display_data"
    }
   ],
   "source": [
    "plot_heatmap()"
   ]
  }
 ],
 "metadata": {
  "kernelspec": {
   "display_name": "Python 3",
   "language": "python",
   "name": "python3"
  },
  "language_info": {
   "codemirror_mode": {
    "name": "ipython",
    "version": 3
   },
   "file_extension": ".py",
   "mimetype": "text/x-python",
   "name": "python",
   "nbconvert_exporter": "python",
   "pygments_lexer": "ipython3",
   "version": "3.4.0"
  }
 },
 "nbformat": 4,
 "nbformat_minor": 0
}
